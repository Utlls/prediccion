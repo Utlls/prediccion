{
 "cells": [
  {
   "cell_type": "markdown",
   "metadata": {},
   "source": [
    "# Plan de Trabajo:\n",
    "\n",
    "Para este proyecto implementaremos los siguientes pasos:\n",
    "\n",
    "1. Carga de información y Exploración de la estructura de datos.\n",
    "Este proceso es fundamental, a traves de investigar cada libro/base de datos entenderemos la estructura y como aterrizar las ideas.\n",
    "\n",
    "2. Exploración de los datos:\n",
    "Al trabajar para la gente que toma las decisiones, Trataremos de sacar datos relevantes, que podran darle forma al fenomeno.\n",
    "\n",
    "***“Lo que no se define no se puede medir. Lo que no se mide, no se puede mejorar. Lo que no se mejora, se degrada siempre.”***\n",
    "\n",
    "-  William Thomson Kelvin\n",
    "\n",
    "3. Prepararemos los datos para el modelo.\n",
    "Al trabajar em modelos, debemos transformar las variables categoricas por variables dicotomicas o escaladas.\n",
    "\n",
    "4. Generaremos modelos:\n",
    "Que nos ayuden a comprende aquello que pudiera estar fallando.\n",
    "\n",
    "5. Recopilaremso resultados y Generaremos un informe.\n",
    "\n",
    "\n"
   ]
  },
  {
   "cell_type": "markdown",
   "metadata": {},
   "source": [
    "# Interconnect: Retención de Clientes.\n",
    "\n",
    "Para interconnect nuestro clientes son nuestra principal fuente de ingresos, y su retención es la clave para que nuestra empresa mejore y prospere.\n",
    "\n",
    "Por ello, implementaremos diversas medidas de retención de los mismos.\n",
    "\n",
    "***Estrategia:***\n",
    "***Si algun usuario quiere cancelar su plan se le ofrecerán códigos promocionales y opciones de planes especiales.***\n",
    "\n",
    "Este modelo, plantea dar solución a este aspecto y buscar predecir en base al comportamiento del cliente.\n",
    "\n",
    "El equipo de marketing de Interconnect ha recopilado algunos de los datos personales de sus clientes, incluyendo información sobre sus planes y contratos.\n",
    "\n",
    "------------------------------------------------------------------------------------------------------------------------------------\n",
    "\n",
    "## Servicios de Interconnect\n",
    "\n",
    "-----------------------------------------------------\n",
    "Interconnect proporciona principalmente dos tipos de servicios:\n",
    "\n",
    "1. Comunicación por teléfono fijo. El teléfono se puede conectar a varias líneas de manera simultánea.\n",
    "2. Internet. La red se puede configurar a través de una línea telefónica (DSL, *línea de abonado digital*) o a través de un cable de fibra óptica.\n",
    "\n",
    "Algunos otros servicios que ofrece la empresa incluyen:\n",
    "\n",
    "- Seguridad en Internet: software antivirus (*ProtecciónDeDispositivo*) y un bloqueador de sitios web maliciosos (*SeguridadEnLínea*).\n",
    "- Una línea de soporte técnico (*SoporteTécnico*).\n",
    "- Almacenamiento de archivos en la nube y backup de datos (*BackupOnline*).\n",
    "- Streaming de TV (*StreamingTV*) y directorio de películas (*StreamingPelículas*)\n",
    "\n",
    "La clientela puede elegir entre un pago mensual o firmar un contrato de 1 o 2 años. Puede utilizar varios métodos de pago y recibir una factura electrónica después de una transacción.\n",
    "\n",
    "\n",
    "-------------------------------------------------------------------------------------------------------------------------------------\n",
    "\n",
    "# Documentación:\n",
    "\n",
    "-------------------------------\n",
    "\n",
    "Los datos consisten en archivos obtenidos de diferentes fuentes:\n",
    "\n",
    "- `contract.csv` — información del contrato;\n",
    "\n",
    "|Campos|Descripción|Tipo|\n",
    "|------|-----------|----|\n",
    "|customerID| Id del cliente|Alfanumerico(Str)|\n",
    "|BeginDate|Fecha de inicio del servicio|Fecha(DAte)|\n",
    "|EndDate|Fecha de baja de servicio|Fecha(Date)|\n",
    "|Type|Tipo de contrato.|Cadena(Str)|\n",
    "|PaperlessBilling|Factura física|Dicotomica(Yes - Digital, No - Electronica)|\n",
    "|PaymentMethod|Metodo de Pago|Cadena(Str)|\n",
    "|MonthlyCharges|Cargos Mensuales|Númerica(Float64)|\n",
    "|TotalCharges|Cargos Totales|Númerica(Float64)|\n",
    "\n",
    "- `personal.csv` — datos personales del cliente;\n",
    "\n",
    "|Campos|Descripción|Tipo|\n",
    "|------|-----------|----|\n",
    "|customerID| Id del Cliente| Alfanumerico(Str)|\n",
    "|gender|Genero del cliente|Cadena(Str)|\n",
    "|SeniorCitizen|Cuidadano|(Binaria 1 - Si, 0 - No)|\n",
    "|Partner|Socio|Cadena(Str), Yes, No|\n",
    "|Dependents|Si tiene dependientes o no|Cadena(Str),Yes, No|\n",
    "\n",
    "- `internet.csv` — información sobre los servicios de Internet;\n",
    "\n",
    "|Campos|Descripción|Tipo|\n",
    "|------|-----------|----|\n",
    "|customerID|Id del Cliente| Alfanumerico(Str)|\n",
    "|InternetService|si se le proporciona Servicio de internet|Cadena(Str)|\n",
    "|OnlineSecurity|Cuenta con el servicio de seguridad|Dicotomica(Yes, No)|\n",
    "|OnlineBackup|Tiene el servicio de nube |Dicotomica(Yes, No)|\n",
    "|DeviceProtection|Cuenta con protección para sus dispositivos|Dicotomica(Yes, No)|\n",
    "|TechSupport|Tiene soporte sobre tecnología|Dicotomica(Yes, No)|\n",
    "|StreamingTV|Tiene el servicio de Streaming|Dicotomica(Yes, No)|\n",
    "|StreamingMovies|Cuenta con el servicio de Streaming de peliculas|Dicotomica(Yes, No)|\n",
    "\n",
    "\n",
    "- `phone.csv` — información sobre los servicios telefónicos.\n",
    "\n",
    "|Campos|Descripción|Tipo|\n",
    "|------|-----------|----|\n",
    "|customerID|Id del Cliente| Alfanumerico(Str)|\n",
    "|MultipleLines|Si tiene muchas lineas o solo cuenta con una|Dicotomica(Yes, No)|\n",
    "\n",
    "\n",
    "En cada archivo, la columna `customerID` (ID de cliente) contiene un código único asignado a cada cliente. La información del contrato es válida a partir del 1 de febrero de 2020.\n"
   ]
  },
  {
   "cell_type": "markdown",
   "metadata": {
    "vscode": {
     "languageId": "plaintext"
    }
   },
   "source": [
    "## Carga de Librerias:"
   ]
  },
  {
   "cell_type": "code",
   "execution_count": 43,
   "metadata": {},
   "outputs": [],
   "source": [
    "import pandas as pd\n",
    "import numpy as np\n",
    "import matplotlib.pyplot as plt\n",
    "\n",
    "\n",
    "from sklearn.preprocessing import OneHotEncoder\n",
    "from xgboost import XGBClassifier\n",
    "from sklearn.model_selection import train_test_split\n",
    "from sklearn.metrics import roc_auc_score, accuracy_score\n",
    "\n",
    "\n",
    "from tensorflow.keras.models import Sequential\n",
    "from tensorflow.keras.layers import Dense\n",
    "from tensorflow.keras.optimizers import Adam\n"
   ]
  },
  {
   "cell_type": "markdown",
   "metadata": {
    "vscode": {
     "languageId": "plaintext"
    }
   },
   "source": [
    "## Carga de Información:"
   ]
  },
  {
   "cell_type": "code",
   "execution_count": 27,
   "metadata": {},
   "outputs": [],
   "source": [
    "contratos = pd.read_csv(\"contract.csv\")\n",
    "personal = pd.read_csv(\"personal.csv\")\n",
    "internet = pd.read_csv(\"internet.csv\")\n",
    "telefono= pd.read_csv(\"phone.csv\")"
   ]
  },
  {
   "cell_type": "markdown",
   "metadata": {},
   "source": [
    "## Estandarización de Campos:\n",
    "\n",
    "dadas las buenas practicas generamos una función que mande a minusculas los nombres, quite espacios y si hay necesidad indroduzca un guion bajo entre las palabras."
   ]
  },
  {
   "cell_type": "code",
   "execution_count": 28,
   "metadata": {},
   "outputs": [],
   "source": [
    "def estandarizar_nombres_columnas(df):\n",
    "    df.columns = (\n",
    "        df.columns\n",
    "        .str.strip()  # Eliminar espacios al inicio y al final\n",
    "        .str.lower()  # Convertir a minúsculas\n",
    "        .str.replace(r'\\s+', '_', regex=True)  # Reemplazar espacios múltiples por un solo guion bajo\n",
    "        .str.replace(r'[^\\w]', '', regex=True)  # Eliminar caracteres especiales\n",
    "    )\n",
    "    return df"
   ]
  },
  {
   "cell_type": "markdown",
   "metadata": {},
   "source": [
    "### Duplicados y datos faltantes:\n"
   ]
  },
  {
   "cell_type": "code",
   "execution_count": 29,
   "metadata": {},
   "outputs": [],
   "source": [
    "def limpiar_dataframe(df, metodo_faltantes='drop', subset_columnas=None):\n",
    "    # Eliminar duplicados\n",
    "    df = df.drop_duplicates(subset=subset_columnas)\n",
    "    \n",
    "    # Manejo de datos faltantes\n",
    "    if metodo_faltantes == 'drop':\n",
    "        df = df.dropna()  # Elimina filas con valores faltantes\n",
    "    elif metodo_faltantes == 'fill':\n",
    "        for col in df.select_dtypes(include=['number']).columns:\n",
    "            df[col] = df[col].fillna(df[col].mean())  # Rellena numéricos con la media\n",
    "        for col in df.select_dtypes(include=['object']).columns:\n",
    "            df[col] = df[col].fillna(df[col].mode()[0])  # Rellena categóricos con la moda\n",
    "\n",
    "    return df"
   ]
  },
  {
   "cell_type": "code",
   "execution_count": 30,
   "metadata": {},
   "outputs": [],
   "source": [
    "contratos = limpiar_dataframe(contratos, metodo_faltantes=\"drop\")\n",
    "personal = limpiar_dataframe(personal, metodo_faltantes=\"drop\")\n",
    "internet = limpiar_dataframe(internet, metodo_faltantes=\"drop\")\n",
    "telefono = limpiar_dataframe(telefono, metodo_faltantes=\"drop\")"
   ]
  },
  {
   "cell_type": "markdown",
   "metadata": {},
   "source": [
    "## Unión de Bases:\n",
    "Concentrar la información y tener el panorama completo podra mostrar los comportamientos y señales que nos ayudaran a prevenir la perdida de clientes.\n",
    "\n",
    "***Usamos el metodo outer para la union completa de los dataframe y encontrar que si faltan datos estos podrian estar relacionados con la falta de servición o podrian marcar alguna pauta para que el cliente se decida a terminar la relación comercial.*** "
   ]
  },
  {
   "cell_type": "code",
   "execution_count": 31,
   "metadata": {},
   "outputs": [
    {
     "name": "stdout",
     "output_type": "stream",
     "text": [
      "<class 'pandas.core.frame.DataFrame'>\n",
      "RangeIndex: 7043 entries, 0 to 7042\n",
      "Data columns (total 20 columns):\n",
      " #   Column            Non-Null Count  Dtype  \n",
      "---  ------            --------------  -----  \n",
      " 0   customerID        7043 non-null   object \n",
      " 1   gender            7043 non-null   object \n",
      " 2   SeniorCitizen     7043 non-null   int64  \n",
      " 3   Partner           7043 non-null   object \n",
      " 4   Dependents        7043 non-null   object \n",
      " 5   BeginDate         7043 non-null   object \n",
      " 6   EndDate           7043 non-null   object \n",
      " 7   Type              7043 non-null   object \n",
      " 8   PaperlessBilling  7043 non-null   object \n",
      " 9   PaymentMethod     7043 non-null   object \n",
      " 10  MonthlyCharges    7043 non-null   float64\n",
      " 11  TotalCharges      7043 non-null   object \n",
      " 12  InternetService   5517 non-null   object \n",
      " 13  OnlineSecurity    5517 non-null   object \n",
      " 14  OnlineBackup      5517 non-null   object \n",
      " 15  DeviceProtection  5517 non-null   object \n",
      " 16  TechSupport       5517 non-null   object \n",
      " 17  StreamingTV       5517 non-null   object \n",
      " 18  StreamingMovies   5517 non-null   object \n",
      " 19  MultipleLines     6361 non-null   object \n",
      "dtypes: float64(1), int64(1), object(18)\n",
      "memory usage: 1.1+ MB\n"
     ]
    }
   ],
   "source": [
    "df_u1 = pd.merge(personal, contratos, on=\"customerID\", how=\"outer\")\n",
    "df_u2 = pd.merge(df_u1, internet, on=\"customerID\", how=\"outer\")\n",
    "df_u3 = pd.merge(df_u2, telefono, on=\"customerID\", how=\"outer\")\n",
    "df_u3.info()"
   ]
  },
  {
   "cell_type": "markdown",
   "metadata": {},
   "source": [
    "## Corrección de Tipos de datos:\n",
    "Antes de codificar la información es importante checar los tipos y por ende lograr que la información tenga cuerencia y podamos estandarizar los campos, para el caso de las fechas el valor nulo, el valor nulo a usar sera: **01/01/1900**, para darle cuerencia, aunque esta columan al momento de generar la infomración para entrenar el modelo tendra a desaparecer.\n",
    "\n",
    "Para los servicios en los cuales no se presenta el registro suponemos que no se cuenta con el mismo por lo que se creara la etiqueta de **\"no contratado\"** y se pondra en **\"0\"** aquello, y para los servicios de telefonia fija, se pondra como no todos aquellos refistros faltantes con ello buscamos contar con la mayor cantidad de información. \n",
    "\n"
   ]
  },
  {
   "cell_type": "code",
   "execution_count": 32,
   "metadata": {},
   "outputs": [
    {
     "name": "stdout",
     "output_type": "stream",
     "text": [
      "[ 593.3   542.4   280.85 ...  742.9  4627.65 3707.6 ]\n"
     ]
    }
   ],
   "source": [
    "#print(df_u3[\"EndDate\"].unique())\n",
    "#print(df_u3[\"BeginDate\"].unique())\n",
    "#print(df_u3[\"InternetService\"].unique())\n",
    "df_u3[\"TotalCharges\"] = pd.to_numeric(df_u3[\"TotalCharges\"], errors='coerce')\n",
    "print(df_u3[\"TotalCharges\"].unique())\n"
   ]
  },
  {
   "cell_type": "code",
   "execution_count": 33,
   "metadata": {},
   "outputs": [
    {
     "name": "stdout",
     "output_type": "stream",
     "text": [
      "<class 'pandas.core.frame.DataFrame'>\n",
      "RangeIndex: 7043 entries, 0 to 7042\n",
      "Data columns (total 22 columns):\n",
      " #   Column            Non-Null Count  Dtype  \n",
      "---  ------            --------------  -----  \n",
      " 0   customerid        7043 non-null   object \n",
      " 1   gender            7043 non-null   object \n",
      " 2   seniorcitizen     7043 non-null   int64  \n",
      " 3   partner           7043 non-null   object \n",
      " 4   dependents        7043 non-null   object \n",
      " 5   begindate         7043 non-null   object \n",
      " 6   enddate           7043 non-null   object \n",
      " 7   type              7043 non-null   object \n",
      " 8   paperlessbilling  7043 non-null   object \n",
      " 9   paymentmethod     7043 non-null   object \n",
      " 10  monthlycharges    7043 non-null   float64\n",
      " 11  totalcharges      7032 non-null   float64\n",
      " 12  internetservice   7043 non-null   object \n",
      " 13  onlinesecurity    7043 non-null   object \n",
      " 14  onlinebackup      7043 non-null   object \n",
      " 15  deviceprotection  7043 non-null   object \n",
      " 16  techsupport       7043 non-null   object \n",
      " 17  streamingtv       7043 non-null   object \n",
      " 18  streamingmovies   7043 non-null   object \n",
      " 19  multiplelines     7043 non-null   object \n",
      " 20  abandono          7043 non-null   int64  \n",
      " 21  fecha_inicio      7043 non-null   float64\n",
      "dtypes: float64(3), int64(2), object(17)\n",
      "memory usage: 1.2+ MB\n"
     ]
    },
    {
     "name": "stderr",
     "output_type": "stream",
     "text": [
      "C:\\Users\\utril\\AppData\\Local\\Temp\\ipykernel_24860\\3496434923.py:4: FutureWarning: Setting an item of incompatible dtype is deprecated and will raise an error in a future version of pandas. Value 'No' has dtype incompatible with float64, please explicitly cast to a compatible dtype first.\n",
      "  df_u3.fillna(\"No\", inplace=True)\n"
     ]
    }
   ],
   "source": [
    "df_u3[\"abandono\"] = (df_u3[\"EndDate\"] != 'No').astype(int)\n",
    "df_u3[\"fecha_inicio\"] = pd.to_datetime(df_u3[\"BeginDate\"]).astype(int) / 10**9\n",
    "df_u3[\"InternetService\"] = df_u3[\"InternetService\"].fillna(\"No_service\")\n",
    "df_u3.fillna(\"No\", inplace=True)\n",
    "#df_u3.drop(columns=[\"BeginDate\", \"EndDate\"], inplace=True)\n",
    "df_u3 = estandarizar_nombres_columnas(df_u3)\n",
    "df_u3[\"totalcharges\"] = pd.to_numeric(df_u3[\"totalcharges\"], errors='coerce')\n",
    "\n",
    "df_u3.info()\n"
   ]
  },
  {
   "cell_type": "markdown",
   "metadata": {},
   "source": [
    "## Análisis Exploratorio de Datos:"
   ]
  },
  {
   "cell_type": "markdown",
   "metadata": {},
   "source": [
    "## Abandono:\n",
    "Observar el abandono, por parte de nuestros clientes es vital para entener el fenomeno y por que se genera."
   ]
  },
  {
   "cell_type": "markdown",
   "metadata": {},
   "source": [
    "### Totales:\n",
    "Observaremos la proporcion de la muestra para blaancear la muestra."
   ]
  },
  {
   "cell_type": "code",
   "execution_count": 34,
   "metadata": {},
   "outputs": [
    {
     "data": {
      "image/png": "[encoded data removed]",
      "text/plain": [
       "<Figure size 640x480 with 1 Axes>"
      ]
     },
     "metadata": {},
     "output_type": "display_data"
    },
    {
     "name": "stdout",
     "output_type": "stream",
     "text": [
      "Desbalance de casos:1869(26.58%)\n"
     ]
    }
   ],
   "source": [
    "total_abandono = df_u3.groupby(by = \"abandono\")[\"totalcharges\"].count()\n",
    "total_abandono.plot(title = \"Total de Abandono\",xlabel = \"Estado\", ylabel = \"Frecuencia\", kind = \"bar\", color = \"black\"  )\n",
    "plt.show()\n",
    "print(f\"Desbalance de casos:{total_abandono[1]}({total_abandono[1]/(total_abandono[1]+total_abandono[0]):.2%})\")"
   ]
  },
  {
   "cell_type": "markdown",
   "metadata": {},
   "source": [
    "#### Hallazgo 01:\n",
    "Encontramos que el abandono por parte de los clientes es del 26.58%, un cuarto de nuestros contratos."
   ]
  },
  {
   "cell_type": "markdown",
   "metadata": {},
   "source": [
    "### Ingreso por clientes que Abandonaron:\n",
    "Lo importante observar los ingresos por cliente que nos abandonan y el por que, ya que una señal podria ser que nuestros clientes más fuertes nos "
   ]
  },
  {
   "cell_type": "code",
   "execution_count": 35,
   "metadata": {},
   "outputs": [
    {
     "data": {
      "image/png": "[encoded data removed]",
      "text/plain": [
       "<Figure size 640x480 with 1 Axes>"
      ]
     },
     "metadata": {},
     "output_type": "display_data"
    },
    {
     "name": "stdout",
     "output_type": "stream",
     "text": [
      "Ingreso promedio perdido:$1531.80\n"
     ]
    }
   ],
   "source": [
    "saldo_abandono = df_u3.groupby(by = \"abandono\")[\"totalcharges\"].mean()\n",
    "saldo_abandono.plot(title =\"Saldo promedio de las personas que abandonaron\", xlabel = \"Estado\", ylabel = \"Saldo promedio\", kind = \"bar\", color = \"black\")\n",
    "plt.show()\n",
    "print(f\"Ingreso promedio perdido:${saldo_abandono[1]:.2f}\")"
   ]
  },
  {
   "cell_type": "markdown",
   "metadata": {},
   "source": [
    "#### Hallazgo 02:\n",
    "Podemos observar que entre las personas que abnadonaron nuestros servicios, el monto promedio no fue tan significativo, tenemos clientes que se mantienen con nosostros a psear de que su cuenta rebasa los $2,500.00, tendremos a observar otros aspectos."
   ]
  },
  {
   "cell_type": "markdown",
   "metadata": {},
   "source": [
    "### Fechas de Abandono:\n",
    "\n",
    "Revisar el record de fechas y las tasas de abandono nos ayudara a entender su abandono o vislumbrar si en esas fechas ocurrio algun fenomeno que nos pudiera ayudar entender mejor el fenomeno."
   ]
  },
  {
   "cell_type": "code",
   "execution_count": 36,
   "metadata": {},
   "outputs": [
    {
     "name": "stdout",
     "output_type": "stream",
     "text": [
      "enddate\n",
      "2019-10-01 00:00:00     458\n",
      "2019-11-01 00:00:00     485\n",
      "2019-12-01 00:00:00     466\n",
      "2020-01-01 00:00:00     460\n",
      "No                     5163\n",
      "Name: totalcharges, dtype: int64\n"
     ]
    }
   ],
   "source": [
    "fechas_adandono = df_u3.groupby(by = \"enddate\")[\"totalcharges\"].count()\n",
    "print(fechas_adandono)"
   ]
  },
  {
   "cell_type": "markdown",
   "metadata": {},
   "source": [
    "#### Hallazgo 03:\n",
    "Encontramos que el ultimo trimestre del 2019, tendriamos que checar a detalle los aspectos que gnereron el abandono por parte de nuestros clientes."
   ]
  },
  {
   "cell_type": "markdown",
   "metadata": {},
   "source": [
    "### Planes que presentan abandono:\n",
    "Encontrar los planes que presentan mayor indice de abandono podria ser la calve, para reevaluar los mismo."
   ]
  },
  {
   "cell_type": "code",
   "execution_count": 37,
   "metadata": {},
   "outputs": [
    {
     "data": {
      "image/png": "[encoded data removed]",
      "text/plain": [
       "<Figure size 640x480 with 1 Axes>"
      ]
     },
     "metadata": {},
     "output_type": "display_data"
    },
    {
     "name": "stdout",
     "output_type": "stream",
     "text": [
      "type\n",
      "Month-to-month    1655\n",
      "One year           166\n",
      "Two year            48\n",
      "Name: totalcharges, dtype: int64\n"
     ]
    }
   ],
   "source": [
    "\n",
    "planes_abandono = df_u3[df_u3[\"abandono\"] == 1]\n",
    "planes_abandonos = planes_abandono.groupby(by = \"type\")[\"totalcharges\"].count()\n",
    "planes_abandonos.plot(title = \"Abandono por planes\", xlabel = \"Tipos de planes\", ylabel = \"Abandonos\", kind = \"bar\", color = \"black\")\n",
    "plt.show()\n",
    "\n",
    "print(planes_abandonos)"
   ]
  },
  {
   "cell_type": "markdown",
   "metadata": {},
   "source": [
    "#### Hallazgo 04:\n",
    "Encontramos que la mayor parte de los abandono se encuentran en el plan mes a mes, tendremos que checar si se ha implementado algun plan a menos costo por la competencia o si se refiere ha algun tema interno con el servicio."
   ]
  },
  {
   "cell_type": "markdown",
   "metadata": {},
   "source": [
    "### Preparación de datos para la regresión:\n",
    "Preparar la información para la regresión. "
   ]
  },
  {
   "cell_type": "code",
   "execution_count": 38,
   "metadata": {},
   "outputs": [
    {
     "name": "stdout",
     "output_type": "stream",
     "text": [
      "      gender  seniorcitizen  partner  dependents            type  \\\n",
      "4698       0              0        0           0  Month-to-month   \n",
      "6683       1              0        1           0        Two year   \n",
      "1999       0              0        1           1        Two year   \n",
      "\n",
      "      paperlessbilling              paymentmethod  monthlycharges  \\\n",
      "4698                 0               Mailed check           20.35   \n",
      "6683                 0  Bank transfer (automatic)           64.75   \n",
      "1999                 0  Bank transfer (automatic)           86.90   \n",
      "\n",
      "      totalcharges internetservice  onlinesecurity  onlinebackup  \\\n",
      "4698         92.75      No_service               0             0   \n",
      "6683       4804.75             DSL               1             1   \n",
      "1999       6194.10             DSL               1             0   \n",
      "\n",
      "      deviceprotection  techsupport  streamingtv  streamingmovies  \\\n",
      "4698                 0            0            0                0   \n",
      "6683                 0            1            0                0   \n",
      "1999                 1            1            1                1   \n",
      "\n",
      "      multiplelines  abandono  fecha_inicio  \n",
      "4698              0         0  1.567296e+09  \n",
      "6683              1         0  1.391213e+09  \n",
      "1999              1         0  1.398902e+09  \n"
     ]
    }
   ],
   "source": [
    "# Columnas simples:\n",
    "df_regresion = df_u3\n",
    "\n",
    "df_regresion[\"gender\"] = df_regresion[\"gender\"].map({\"Female\": 1, \"Male\": 0})\n",
    "df_regresion[\"partner\"] = df_regresion[\"partner\"].map({\"Yes\": 1, \"No\": 0})\n",
    "df_regresion[\"dependents\"] = df_regresion[\"dependents\"].map({\"Yes\": 1, \"No\": 0})\n",
    "df_regresion[\"paperlessbilling\"] = df_regresion[\"paperlessbilling\"].map({\"Yes\": 1, \"No\": 0})\n",
    "df_regresion[\"onlinesecurity\"] = df_regresion[\"onlinesecurity\"].map({\"Yes\": 1, \"No\": 0})\n",
    "df_regresion[\"onlinebackup\"] = df_regresion[\"onlinebackup\"].map({\"Yes\": 1, \"No\": 0})\n",
    "df_regresion[\"deviceprotection\"] = df_regresion[\"deviceprotection\"].map({\"Yes\": 1, \"No\": 0})\n",
    "df_regresion[\"techsupport\"] = df_regresion[\"techsupport\"].map({\"Yes\": 1, \"No\": 0})\n",
    "df_regresion[\"streamingtv\"] = df_regresion[\"streamingtv\"].map({\"Yes\": 1, \"No\": 0})\n",
    "df_regresion[\"streamingmovies\"] = df_regresion[\"streamingmovies\"].map({\"Yes\": 1, \"No\": 0})\n",
    "df_regresion[\"multiplelines\"] = df_regresion[\"multiplelines\"].map({\"Yes\": 1, \"No\": 0})\n",
    "\n",
    "df_regresion.drop(columns=[\"customerid\",\"begindate\", \"enddate\"], inplace=True)\n",
    "print(df_regresion.sample(3))\n"
   ]
  },
  {
   "cell_type": "code",
   "execution_count": 39,
   "metadata": {},
   "outputs": [],
   "source": [
    "# Crear un OneHotEncoder independiente para cada columna\n",
    "encoder_type = OneHotEncoder(sparse_output=False, drop='first')\n",
    "encoder_paymentmethod = OneHotEncoder(sparse_output=False, drop='first')\n",
    "encoder_internetservice = OneHotEncoder(sparse_output=False, drop='first')\n",
    "\n",
    "# Aplicar OneHotEncoder a cada columna\n",
    "encoded_type = encoder_type.fit_transform(df_regresion[['type']])\n",
    "encoded_paymentmethod = encoder_paymentmethod.fit_transform(df_regresion[['paymentmethod']])\n",
    "encoded_internetservice = encoder_internetservice.fit_transform(df_regresion[['internetservice']])\n",
    "\n",
    "# Convertir a DataFrame con nombres correctos\n",
    "df_encoded_type = pd.DataFrame(encoded_type, columns=encoder_type.get_feature_names_out(['type']))\n",
    "df_encoded_paymentmethod = pd.DataFrame(encoded_paymentmethod, columns=encoder_paymentmethod.get_feature_names_out(['paymentmethod']))\n",
    "df_encoded_internetservice = pd.DataFrame(encoded_internetservice, columns=encoder_internetservice.get_feature_names_out(['internetservice']))\n",
    "\n",
    "# Concatenar todas las columnas codificadas con el DataFrame original (sin las columnas originales)\n",
    "df_regresion_final = pd.concat([df_regresion, df_encoded_type, df_encoded_paymentmethod, df_encoded_internetservice], axis=1)\n",
    "df_regresion_final.drop(columns=['type', 'paymentmethod', 'internetservice'], inplace=True)\n"
   ]
  },
  {
   "cell_type": "markdown",
   "metadata": {},
   "source": [
    "## Generacíon del modelo:"
   ]
  },
  {
   "cell_type": "markdown",
   "metadata": {},
   "source": [
    "### Gradient Boosting:  "
   ]
  },
  {
   "cell_type": "code",
   "execution_count": 40,
   "metadata": {},
   "outputs": [
    {
     "name": "stderr",
     "output_type": "stream",
     "text": [
      "c:\\Users\\utril\\anaconda3\\envs\\cienciadedatos\\lib\\site-packages\\xgboost\\core.py:158: UserWarning: [21:17:43] WARNING: C:\\b\\abs_90_bwj_86a\\croot\\xgboost-split_1724073762025\\work\\src\\learner.cc:740: \n",
      "Parameters: { \"use_label_encoder\" } are not used.\n",
      "\n",
      "  warnings.warn(smsg, UserWarning)\n"
     ]
    },
    {
     "name": "stdout",
     "output_type": "stream",
     "text": [
      "AUC-ROC: 0.9375974870251665\n",
      "Exactitud: 0.9045161290322581\n"
     ]
    }
   ],
   "source": [
    "X = df_regresion_final.drop(columns=[\"abandono\"])\n",
    "y = df_regresion_final[\"abandono\"]\n",
    "\n",
    "\n",
    "X_train, X_test, y_train, y_test = train_test_split(X, y, test_size=0.22, random_state=12345)\n",
    "\n",
    "model = XGBClassifier(use_label_encoder=False, eval_metric=\"logloss\")\n",
    "model.fit(X_train, y_train)\n",
    "\n",
    "y_pred = model.predict(X_test)\n",
    "y_prob = model.predict_proba(X_test)[:, 1]\n",
    "\n",
    "print(\"AUC-ROC:\", roc_auc_score(y_test, y_prob))\n",
    "print(\"Exactitud:\", accuracy_score(y_test, y_pred))"
   ]
  },
  {
   "cell_type": "markdown",
   "metadata": {},
   "source": [
    "### Red Neuronal:"
   ]
  },
  {
   "cell_type": "code",
   "execution_count": 42,
   "metadata": {},
   "outputs": [
    {
     "name": "stdout",
     "output_type": "stream",
     "text": [
      "Epoch 1/20\n"
     ]
    },
    {
     "name": "stderr",
     "output_type": "stream",
     "text": [
      "c:\\Users\\utril\\anaconda3\\envs\\cienciadedatos\\lib\\site-packages\\keras\\src\\layers\\core\\dense.py:87: UserWarning: Do not pass an `input_shape`/`input_dim` argument to a layer. When using Sequential models, prefer using an `Input(shape)` object as the first layer in the model instead.\n",
      "  super().__init__(activity_regularizer=activity_regularizer, **kwargs)\n"
     ]
    },
    {
     "name": "stdout",
     "output_type": "stream",
     "text": [
      "\u001b[1m172/172\u001b[0m \u001b[32m━━━━━━━━━━━━━━━━━━━━\u001b[0m\u001b[37m\u001b[0m \u001b[1m2s\u001b[0m 5ms/step - accuracy: 0.7117 - loss: 790460.7500 - val_accuracy: 0.7400 - val_loss: 0.6283\n",
      "Epoch 2/20\n",
      "\u001b[1m172/172\u001b[0m \u001b[32m━━━━━━━━━━━━━━━━━━━━\u001b[0m\u001b[37m\u001b[0m \u001b[1m1s\u001b[0m 4ms/step - accuracy: 0.7364 - loss: 0.6197 - val_accuracy: 0.7400 - val_loss: 0.5949\n",
      "Epoch 3/20\n",
      "\u001b[1m172/172\u001b[0m \u001b[32m━━━━━━━━━━━━━━━━━━━━\u001b[0m\u001b[37m\u001b[0m \u001b[1m1s\u001b[0m 4ms/step - accuracy: 0.7277 - loss: 0.5984 - val_accuracy: 0.7400 - val_loss: 0.5809\n",
      "Epoch 4/20\n",
      "\u001b[1m172/172\u001b[0m \u001b[32m━━━━━━━━━━━━━━━━━━━━\u001b[0m\u001b[37m\u001b[0m \u001b[1m1s\u001b[0m 3ms/step - accuracy: 0.7326 - loss: 0.5851 - val_accuracy: 0.7400 - val_loss: 0.5757\n",
      "Epoch 5/20\n",
      "\u001b[1m172/172\u001b[0m \u001b[32m━━━━━━━━━━━━━━━━━━━━\u001b[0m\u001b[37m\u001b[0m \u001b[1m1s\u001b[0m 3ms/step - accuracy: 0.7259 - loss: 0.5879 - val_accuracy: 0.7400 - val_loss: 0.5741\n",
      "Epoch 6/20\n",
      "\u001b[1m172/172\u001b[0m \u001b[32m━━━━━━━━━━━━━━━━━━━━\u001b[0m\u001b[37m\u001b[0m \u001b[1m1s\u001b[0m 4ms/step - accuracy: 0.7347 - loss: 0.5790 - val_accuracy: 0.7400 - val_loss: 0.5735\n",
      "Epoch 7/20\n",
      "\u001b[1m172/172\u001b[0m \u001b[32m━━━━━━━━━━━━━━━━━━━━\u001b[0m\u001b[37m\u001b[0m \u001b[1m1s\u001b[0m 4ms/step - accuracy: 0.7312 - loss: 0.5821 - val_accuracy: 0.7400 - val_loss: 0.5733\n",
      "Epoch 8/20\n",
      "\u001b[1m172/172\u001b[0m \u001b[32m━━━━━━━━━━━━━━━━━━━━\u001b[0m\u001b[37m\u001b[0m \u001b[1m1s\u001b[0m 4ms/step - accuracy: 0.7291 - loss: 0.5842 - val_accuracy: 0.7400 - val_loss: 0.5732\n",
      "Epoch 9/20\n",
      "\u001b[1m172/172\u001b[0m \u001b[32m━━━━━━━━━━━━━━━━━━━━\u001b[0m\u001b[37m\u001b[0m \u001b[1m1s\u001b[0m 4ms/step - accuracy: 0.7283 - loss: 0.5850 - val_accuracy: 0.7400 - val_loss: 0.5732\n",
      "Epoch 10/20\n",
      "\u001b[1m172/172\u001b[0m \u001b[32m━━━━━━━━━━━━━━━━━━━━\u001b[0m\u001b[37m\u001b[0m \u001b[1m1s\u001b[0m 4ms/step - accuracy: 0.7350 - loss: 0.5782 - val_accuracy: 0.7400 - val_loss: 0.5732\n",
      "Epoch 11/20\n",
      "\u001b[1m172/172\u001b[0m \u001b[32m━━━━━━━━━━━━━━━━━━━━\u001b[0m\u001b[37m\u001b[0m \u001b[1m1s\u001b[0m 3ms/step - accuracy: 0.7325 - loss: 0.5808 - val_accuracy: 0.7400 - val_loss: 0.5732\n",
      "Epoch 12/20\n",
      "\u001b[1m172/172\u001b[0m \u001b[32m━━━━━━━━━━━━━━━━━━━━\u001b[0m\u001b[37m\u001b[0m \u001b[1m1s\u001b[0m 3ms/step - accuracy: 0.7466 - loss: 0.5665 - val_accuracy: 0.7400 - val_loss: 0.5732\n",
      "Epoch 13/20\n",
      "\u001b[1m172/172\u001b[0m \u001b[32m━━━━━━━━━━━━━━━━━━━━\u001b[0m\u001b[37m\u001b[0m \u001b[1m1s\u001b[0m 3ms/step - accuracy: 0.7305 - loss: 0.5829 - val_accuracy: 0.7400 - val_loss: 0.5732\n",
      "Epoch 14/20\n",
      "\u001b[1m172/172\u001b[0m \u001b[32m━━━━━━━━━━━━━━━━━━━━\u001b[0m\u001b[37m\u001b[0m \u001b[1m1s\u001b[0m 3ms/step - accuracy: 0.7307 - loss: 0.5826 - val_accuracy: 0.7400 - val_loss: 0.5732\n",
      "Epoch 15/20\n",
      "\u001b[1m172/172\u001b[0m \u001b[32m━━━━━━━━━━━━━━━━━━━━\u001b[0m\u001b[37m\u001b[0m \u001b[1m1s\u001b[0m 3ms/step - accuracy: 0.7301 - loss: 0.5832 - val_accuracy: 0.7400 - val_loss: 0.5732\n",
      "Epoch 16/20\n",
      "\u001b[1m172/172\u001b[0m \u001b[32m━━━━━━━━━━━━━━━━━━━━\u001b[0m\u001b[37m\u001b[0m \u001b[1m1s\u001b[0m 3ms/step - accuracy: 0.7363 - loss: 0.5770 - val_accuracy: 0.7400 - val_loss: 0.5732\n",
      "Epoch 17/20\n",
      "\u001b[1m172/172\u001b[0m \u001b[32m━━━━━━━━━━━━━━━━━━━━\u001b[0m\u001b[37m\u001b[0m \u001b[1m1s\u001b[0m 3ms/step - accuracy: 0.7325 - loss: 0.5808 - val_accuracy: 0.7400 - val_loss: 0.5732\n",
      "Epoch 18/20\n",
      "\u001b[1m172/172\u001b[0m \u001b[32m━━━━━━━━━━━━━━━━━━━━\u001b[0m\u001b[37m\u001b[0m \u001b[1m1s\u001b[0m 3ms/step - accuracy: 0.7395 - loss: 0.5737 - val_accuracy: 0.7400 - val_loss: 0.5732\n",
      "Epoch 19/20\n",
      "\u001b[1m172/172\u001b[0m \u001b[32m━━━━━━━━━━━━━━━━━━━━\u001b[0m\u001b[37m\u001b[0m \u001b[1m1s\u001b[0m 3ms/step - accuracy: 0.7385 - loss: 0.5747 - val_accuracy: 0.7400 - val_loss: 0.5732\n",
      "Epoch 20/20\n",
      "\u001b[1m172/172\u001b[0m \u001b[32m━━━━━━━━━━━━━━━━━━━━\u001b[0m\u001b[37m\u001b[0m \u001b[1m1s\u001b[0m 4ms/step - accuracy: 0.7277 - loss: 0.5856 - val_accuracy: 0.7400 - val_loss: 0.5732\n",
      "\u001b[1m49/49\u001b[0m \u001b[32m━━━━━━━━━━━━━━━━━━━━\u001b[0m\u001b[37m\u001b[0m \u001b[1m0s\u001b[0m 3ms/step\n",
      "AUC-ROC: 0.5\n",
      "Exactitud: 0.74\n"
     ]
    }
   ],
   "source": [
    "model = Sequential([\n",
    "    Dense(64, activation='relu', input_shape=(X.shape[1],)),\n",
    "    Dense(32, activation='relu'),\n",
    "    Dense(1, activation='sigmoid')\n",
    "])\n",
    "\n",
    "model.compile(optimizer=Adam(), loss='binary_crossentropy', metrics=['accuracy'])\n",
    "\n",
    "model.fit(X_train, y_train, epochs=20, batch_size=32, validation_data=(X_test, y_test))\n",
    "\n",
    "y_prob_nn = model.predict(X_test).flatten()\n",
    "y_pred_nn = (y_prob_nn > 0.5).astype(int)\n",
    "\n",
    "print(\"AUC-ROC:\", roc_auc_score(y_test, y_prob_nn))\n",
    "print(\"Exactitud:\", accuracy_score(y_test, y_pred_nn))"
   ]
  },
  {
   "cell_type": "markdown",
   "metadata": {},
   "source": [
    "---------------------------\n",
    "## Metricas de evaluación:\n",
    "---------------------------\n",
    "\n",
    "Característica objetivo: la columna `'EndDate'` es igual a `'No'`.\n",
    "\n",
    "Métrica principal: AUC-ROC.\n",
    "\n",
    "Métrica adicional: exactitud.\n",
    "\n",
    "Criterios de evaluación:\n",
    "\n",
    "- AUC-ROC < 0.75 — 0 SP\n",
    "- 0.75 ≤ AUC-ROC < 0.81 — 4 SP\n",
    "- 0.81 ≤ AUC-ROC < 0.85 — 4.5 SP\n",
    "- 0.85 ≤ AUC-ROC < 0.87 — 5 SP\n",
    "- 0.87 ≤ AUC-ROC < 0.88 — 5.5 SP\n",
    "- AUC-ROC ≥ 0.88 — 6 SP"
   ]
  },
  {
   "cell_type": "markdown",
   "metadata": {},
   "source": [
    "## Revisión de Modelo:\n",
    "\n",
    "[X] ¿Realizaste todos los pasos?\n",
    "\n",
    "[X] ¿La solución coincide con la condición de la tarea?\n",
    "\n",
    "[X] ¿Entrenaste y probaste correctamente el modelo?\n",
    "\n",
    "[X] ¿Cuál es la puntuación de calidad del mejor modelo?\n",
    "\n",
    "[X] ¿Mantuviste la estructura del proyecto?\n",
    "\n",
    "[X] ¿Mantuviste el código limpio?"
   ]
  },
  {
   "cell_type": "markdown",
   "metadata": {},
   "source": [
    "### Conclusión:"
   ]
  },
  {
   "cell_type": "markdown",
   "metadata": {},
   "source": [
    "Los aprendizajes de este proyecto fueron:\n",
    "\n",
    "1. Recordar la carga de información: \n",
    "Se cargo la información de los recutrsos obtenidos.\n",
    "2. Limpieza de datos y análisis de los mismos.\n",
    "Se reviso la duplicidad, y los datos faltantes en base a la estructura de los datos se relleno los faltantes.\n",
    "3. Análisis exploratorio de los datos.\n",
    "Se conocieron los datos y en base a ellos se tomaron las decisiones y se sacaron señales para la exploración de las variables. \n",
    "4.  Se Generaron 2 modelos, uno por gradiante y otro por redes neuronales.\n",
    "\n",
    "|Modelo|AUC-ROC|Precisión|\n",
    "|------|-------|---------|\n",
    "|**Gradiante**| **0.9376**|**0.9045**|\n",
    "|Red Neuronal|0.5|0.74|\n",
    "\n",
    "Por lo que superamos el criterio de evaluación del modelo que requeria AUC-ROC ≥ 0.88, se seguiras observando la red neuronal en busca de mayor comprensión, por lo que pude entender se debe al desbalance de clases, por lo que se podria optar por el balance de la muestra."
   ]
  },
  {
   "cell_type": "markdown",
   "metadata": {},
   "source": [
    "# Informe de Solución:\n",
    "\n",
    "A través de este proyecto y como se abordaron los datos, encontramos insights interesantes y un modelo que se ajusta a los requerimientos, siguiento el principio de la **Navaja de Ockham***, se optaron por 2 modelos.\n",
    "\n",
    "A continuación se detallan los descubrimientos y Se abre a las sugerencias:\n",
    "\n",
    "1.El abandono impacto en 1869 contratos, significando un  26.58% de nuestros contratos.\n",
    "2.El ingreso promedio de los contratos Acendio a $1531.80.\n",
    "3.La cancelación de contratos se centro en el ultimo trimestre del 2019.\n",
    "4. El plan que presento mayor indice de abandono era el de mes a mes.\n",
    "\n",
    "se probaron2 modelos, un gradiante y una red neuronal.\n",
    "\n",
    "|Modelo|AUC-ROC|Precisión|\n",
    "|------|-------|---------|\n",
    "|**Gradiante**| **0.9376**|**0.9045**|\n",
    "|Red Neuronal|0.5|0.74|\n",
    "\n",
    "Considero que en el caso de la red neuronal se vio afectada por el desbalance de la muestra, y aunque se trato de blancear se vio perjudicada,ademas que encada entrenaiento de epocas perdia de forma significativa precision, entender mejor los factores que pueden perjudicar al modelo y tenerlos en cuenta a fin de poder pronosticar o mejrara su precisión.\n",
    "\n",
    "Tal vez, nos faltaron analisis más profundos, y la implementación de balancear el fataframe a fin de que la red neuronal captara mejor la clase a pronosticar.\n",
    "* La Solución más sencilla es la mejor."
   ]
  },
  {
   "cell_type": "markdown",
   "metadata": {},
   "source": []
  }
 ],
 "metadata": {
  "kernelspec": {
   "display_name": "cienciadedatos",
   "language": "python",
   "name": "python3"
  },
  "language_info": {
   "codemirror_mode": {
    "name": "ipython",
    "version": 3
   },
   "file_extension": ".py",
   "mimetype": "text/x-python",
   "name": "python",
   "nbconvert_exporter": "python",
   "pygments_lexer": "ipython3",
   "version": "3.10.16"
  }
 },
 "nbformat": 4,
 "nbformat_minor": 2
}
